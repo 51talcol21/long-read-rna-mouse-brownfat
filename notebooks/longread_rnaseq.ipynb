{
 "cells": [
  {
   "cell_type": "code",
   "execution_count": 9,
   "id": "90204f7b-2774-4710-8cd7-9a4b6085547f",
   "metadata": {},
   "outputs": [
    {
     "name": "stdout",
     "output_type": "stream",
     "text": [
      "Requirement already satisfied: matplotlib in /Users/s1ffre/miniconda3/envs/flair_work_pls/lib/python3.12/site-packages (3.10.3)\n",
      "Requirement already satisfied: contourpy>=1.0.1 in /Users/s1ffre/miniconda3/envs/flair_work_pls/lib/python3.12/site-packages (from matplotlib) (1.3.2)\n",
      "Requirement already satisfied: cycler>=0.10 in /Users/s1ffre/miniconda3/envs/flair_work_pls/lib/python3.12/site-packages (from matplotlib) (0.12.1)\n",
      "Requirement already satisfied: fonttools>=4.22.0 in /Users/s1ffre/miniconda3/envs/flair_work_pls/lib/python3.12/site-packages (from matplotlib) (4.58.5)\n",
      "Requirement already satisfied: kiwisolver>=1.3.1 in /Users/s1ffre/miniconda3/envs/flair_work_pls/lib/python3.12/site-packages (from matplotlib) (1.4.8)\n",
      "Requirement already satisfied: numpy>=1.23 in /Users/s1ffre/miniconda3/envs/flair_work_pls/lib/python3.12/site-packages (from matplotlib) (2.3.1)\n",
      "Requirement already satisfied: packaging>=20.0 in /Users/s1ffre/miniconda3/envs/flair_work_pls/lib/python3.12/site-packages (from matplotlib) (25.0)\n",
      "Requirement already satisfied: pillow>=8 in /Users/s1ffre/miniconda3/envs/flair_work_pls/lib/python3.12/site-packages (from matplotlib) (11.3.0)\n",
      "Requirement already satisfied: pyparsing>=2.3.1 in /Users/s1ffre/miniconda3/envs/flair_work_pls/lib/python3.12/site-packages (from matplotlib) (3.2.3)\n",
      "Requirement already satisfied: python-dateutil>=2.7 in /Users/s1ffre/miniconda3/envs/flair_work_pls/lib/python3.12/site-packages (from matplotlib) (2.9.0.post0)\n",
      "Requirement already satisfied: six>=1.5 in /Users/s1ffre/miniconda3/envs/flair_work_pls/lib/python3.12/site-packages (from python-dateutil>=2.7->matplotlib) (1.17.0)\n",
      "Note: you may need to restart the kernel to use updated packages.\n",
      "Requirement already satisfied: seaborn in /Users/s1ffre/miniconda3/envs/flair_work_pls/lib/python3.12/site-packages (0.13.2)\n",
      "Requirement already satisfied: numpy!=1.24.0,>=1.20 in /Users/s1ffre/miniconda3/envs/flair_work_pls/lib/python3.12/site-packages (from seaborn) (2.3.1)\n",
      "Requirement already satisfied: pandas>=1.2 in /Users/s1ffre/miniconda3/envs/flair_work_pls/lib/python3.12/site-packages (from seaborn) (2.3.0)\n",
      "Requirement already satisfied: matplotlib!=3.6.1,>=3.4 in /Users/s1ffre/miniconda3/envs/flair_work_pls/lib/python3.12/site-packages (from seaborn) (3.10.3)\n",
      "Requirement already satisfied: contourpy>=1.0.1 in /Users/s1ffre/miniconda3/envs/flair_work_pls/lib/python3.12/site-packages (from matplotlib!=3.6.1,>=3.4->seaborn) (1.3.2)\n",
      "Requirement already satisfied: cycler>=0.10 in /Users/s1ffre/miniconda3/envs/flair_work_pls/lib/python3.12/site-packages (from matplotlib!=3.6.1,>=3.4->seaborn) (0.12.1)\n",
      "Requirement already satisfied: fonttools>=4.22.0 in /Users/s1ffre/miniconda3/envs/flair_work_pls/lib/python3.12/site-packages (from matplotlib!=3.6.1,>=3.4->seaborn) (4.58.5)\n",
      "Requirement already satisfied: kiwisolver>=1.3.1 in /Users/s1ffre/miniconda3/envs/flair_work_pls/lib/python3.12/site-packages (from matplotlib!=3.6.1,>=3.4->seaborn) (1.4.8)\n",
      "Requirement already satisfied: packaging>=20.0 in /Users/s1ffre/miniconda3/envs/flair_work_pls/lib/python3.12/site-packages (from matplotlib!=3.6.1,>=3.4->seaborn) (25.0)\n",
      "Requirement already satisfied: pillow>=8 in /Users/s1ffre/miniconda3/envs/flair_work_pls/lib/python3.12/site-packages (from matplotlib!=3.6.1,>=3.4->seaborn) (11.3.0)\n",
      "Requirement already satisfied: pyparsing>=2.3.1 in /Users/s1ffre/miniconda3/envs/flair_work_pls/lib/python3.12/site-packages (from matplotlib!=3.6.1,>=3.4->seaborn) (3.2.3)\n",
      "Requirement already satisfied: python-dateutil>=2.7 in /Users/s1ffre/miniconda3/envs/flair_work_pls/lib/python3.12/site-packages (from matplotlib!=3.6.1,>=3.4->seaborn) (2.9.0.post0)\n",
      "Requirement already satisfied: pytz>=2020.1 in /Users/s1ffre/miniconda3/envs/flair_work_pls/lib/python3.12/site-packages (from pandas>=1.2->seaborn) (2025.2)\n",
      "Requirement already satisfied: tzdata>=2022.7 in /Users/s1ffre/miniconda3/envs/flair_work_pls/lib/python3.12/site-packages (from pandas>=1.2->seaborn) (2025.2)\n",
      "Requirement already satisfied: six>=1.5 in /Users/s1ffre/miniconda3/envs/flair_work_pls/lib/python3.12/site-packages (from python-dateutil>=2.7->matplotlib!=3.6.1,>=3.4->seaborn) (1.17.0)\n",
      "Note: you may need to restart the kernel to use updated packages.\n",
      "\u001b[31mERROR: Could not find a version that satisfies the requirement minimap2 (from versions: none)\u001b[0m\u001b[31m\n",
      "\u001b[0m\u001b[31mERROR: No matching distribution found for minimap2\u001b[0m\u001b[31m\n",
      "\u001b[0mNote: you may need to restart the kernel to use updated packages.\n"
     ]
    }
   ],
   "source": [
    "%pip install matplotlib\n",
    "%pip install seaborn\n",
    "%pip install minimap2"
   ]
  },
  {
   "cell_type": "code",
   "execution_count": 1,
   "id": "191eb74b-50e9-409a-9e65-b95df986205d",
   "metadata": {},
   "outputs": [],
   "source": [
    "import os\n",
    "import matplotlib.pyplot as plt\n",
    "import seaborn as sns\n",
    "\n",
    "sns.set(style=\"whitegrid\")\n",
    "\n",
    "FASTQ_FILE = \"../dataset/SRR33470049.fastq\"\n",
    "REF_FASTA = \"../references/Mus_musculus.GRCm39.dna_sm.primary_assembly.fa\"\n",
    "REF_INDEX = \"../references/genome.mmi\"\n",
    "GTF = \"../references/Mus_musculus.GRCm39.109.gtf\"\n",
    "\n",
    "ALIGN_DIR = \"../results/alignment/\"\n",
    "os.makedirs(ALIGN_DIR, exist_ok=True)\n",
    "\n",
    "BED_FILE = os.path.join(ALIGN_DIR, \"aligned.bed\")\n",
    "SAM_FILE = os.path.join(ALIGN_DIR, \"aligned.sam\")\n",
    "BAM_FILE = os.path.join(ALIGN_DIR, \"aligned.bam\")\n",
    "SORTED_BAM = os.path.join(ALIGN_DIR, \"aligned.sorted.bam\")"
   ]
  },
  {
   "cell_type": "code",
   "execution_count": 3,
   "id": "29369074-08f3-4a70-ab6a-1b5aa5bd9022",
   "metadata": {},
   "outputs": [
    {
     "data": {
      "image/png": "[encoded data removed]",
      "text/plain": [
       "<Figure size 1000x500 with 1 Axes>"
      ]
     },
     "metadata": {},
     "output_type": "display_data"
    }
   ],
   "source": [
    "def read_fastq_lengths(fastq_path):\n",
    "    lengths = []\n",
    "    with open(fastq_path, 'r') as f:\n",
    "        for i, line in enumerate(f):\n",
    "            if i % 4 == 1:\n",
    "                lengths.append(len(line.strip()))\n",
    "    return lengths\n",
    "\n",
    "lengths = read_fastq_lengths(FASTQ_FILE)\n",
    "\n",
    "plt.figure(figsize=(10, 5))\n",
    "sns.histplot(lengths, bins=50, color='slateblue')\n",
    "plt.title(\"Read Length Distribution\")\n",
    "plt.xlabel(\"Read Length (bp)\")\n",
    "plt.ylabel(\"Count\")\n",
    "plt.show()"
   ]
  },
  {
   "cell_type": "code",
   "execution_count": 4,
   "id": "9ea235fc-2c87-4b36-ab17-0afda0ebce55",
   "metadata": {},
   "outputs": [
    {
     "name": "stdout",
     "output_type": "stream",
     "text": [
      "Total reads: 510727\n",
      "Mean read length: 757.10 bp\n"
     ]
    }
   ],
   "source": [
    "print(f\"Total reads: {len(lengths)}\")\n",
    "print(f\"Mean read length: {sum(lengths)/len(lengths):.2f} bp\")"
   ]
  },
  {
   "cell_type": "code",
   "execution_count": null,
   "id": "582dbb68-7aca-487f-b1f7-8b3f12183994",
   "metadata": {},
   "outputs": [],
   "source": [
    "!minimap2 -d {REF_INDEX} {REF_FASTA}"
   ]
  },
  {
   "cell_type": "code",
   "execution_count": 5,
   "id": "52dda9c9-b3cc-40d8-8e47-1d1234b7b50e",
   "metadata": {},
   "outputs": [
    {
     "name": "stdout",
     "output_type": "stream",
     "text": [
      "[WARNING]\u001b[1;31m Indexing parameters (-k, -w or -H) overridden by parameters used in the prebuilt index.\u001b[0m\n",
      "[M::main::5.700*0.88] loaded/built the index for 61 target sequence(s)\n",
      "[M::mm_mapopt_update::8.060*0.85] mid_occ = 598\n",
      "[M::mm_idx_stat] kmer size: 15; skip: 10; is_hpc: 0; #seq: 61\n",
      "[M::mm_idx_stat::9.537*0.84] distinct minimizers: 97791701 (39.85% are singletons); average occurrences: 5.142; average spacing: 5.426; total length: 2728222451\n",
      "[M::worker_pipeline::1600.087*0.82] mapped 510727 sequences\n",
      "[M::main] Version: 2.30-r1287\n",
      "[M::main] CMD: minimap2 -ax splice -uf --secondary=no -t 4 ../references/genome.mmi ../dataset/SRR33470049.fastq\n",
      "[M::main] Real time: 1600.791 sec; CPU: 1308.580 sec; Peak RSS: 3.418 GB\n"
     ]
    }
   ],
   "source": [
    "!minimap2 -ax splice -uf --secondary=no -t 4 {REF_INDEX} {FASTQ_FILE} > {SAM_FILE}"
   ]
  },
  {
   "cell_type": "code",
   "execution_count": 2,
   "id": "11b25e50-f508-42cd-be0e-25a60945928d",
   "metadata": {},
   "outputs": [],
   "source": [
    "!samtools view -bS {SAM_FILE} > {BAM_FILE}\n",
    "!samtools sort {BAM_FILE} -o {SORTED_BAM}\n",
    "!samtools index {SORTED_BAM}"
   ]
  },
  {
   "cell_type": "code",
   "execution_count": 3,
   "id": "98bd2810-8e3e-42e7-b0d5-47b960bdf9f8",
   "metadata": {},
   "outputs": [
    {
     "name": "stdout",
     "output_type": "stream",
     "text": [
      "602473 + 0 in total (QC-passed reads + QC-failed reads)\n",
      "510727 + 0 primary\n",
      "0 + 0 secondary\n",
      "91746 + 0 supplementary\n",
      "0 + 0 duplicates\n",
      "0 + 0 primary duplicates\n",
      "547012 + 0 mapped (90.79% : N/A)\n",
      "455266 + 0 primary mapped (89.14% : N/A)\n",
      "0 + 0 paired in sequencing\n",
      "0 + 0 read1\n",
      "0 + 0 read2\n",
      "0 + 0 properly paired (N/A : N/A)\n",
      "0 + 0 with itself and mate mapped\n",
      "0 + 0 singletons (N/A : N/A)\n",
      "0 + 0 with mate mapped to a different chr\n",
      "0 + 0 with mate mapped to a different chr (mapQ>=5)\n"
     ]
    }
   ],
   "source": [
    "!samtools flagstat {SORTED_BAM}"
   ]
  },
  {
   "cell_type": "code",
   "execution_count": 2,
   "id": "2ca82348-d725-4d64-ab9e-431077d70a64",
   "metadata": {},
   "outputs": [],
   "source": [
    "# FLAIR output\n",
    "FLAIR_DIR = \"../results/flair\"\n",
    "os.makedirs(FLAIR_DIR, exist_ok=True)"
   ]
  },
  {
   "cell_type": "code",
   "execution_count": 3,
   "id": "cee7a202-b63f-473c-80ca-9a6930a65191",
   "metadata": {},
   "outputs": [],
   "source": [
    "!bedtools bamtobed -bed12 -i ../results/alignment/aligned.bam > ../results/alignment/aligned.bed"
   ]
  },
  {
   "cell_type": "code",
   "execution_count": 6,
   "id": "3b967048-f208-4071-a017-4c7e0b1b6fb6",
   "metadata": {},
   "outputs": [
    {
     "name": "stdout",
     "output_type": "stream",
     "text": [
      "/Users/s1ffre/miniconda3/envs/flair_work_pls/lib/python3.12/site-packages/ncls/__init__.py:2: UserWarning: pkg_resources is deprecated as an API. See https://setuptools.pypa.io/en/latest/pkg_resources.html. The pkg_resources package is slated for removal as early as 2025-11-30. Refrain from using this package or pin to Setuptools<81.\n",
      "  import pkg_resources\n",
      "/Users/s1ffre/miniconda3/envs/flair_work_pls/lib/python3.12/site-packages/ncls/__init__.py:2: UserWarning: pkg_resources is deprecated as an API. See https://setuptools.pypa.io/en/latest/pkg_resources.html. The pkg_resources package is slated for removal as early as 2025-11-30. Refrain from using this package or pin to Setuptools<81.\n",
      "  import pkg_resources\n",
      "/Users/s1ffre/miniconda3/envs/flair_work_pls/lib/python3.12/site-packages/ncls/__init__.py:2: UserWarning: pkg_resources is deprecated as an API. See https://setuptools.pypa.io/en/latest/pkg_resources.html. The pkg_resources package is slated for removal as early as 2025-11-30. Refrain from using this package or pin to Setuptools<81.\n",
      "  import pkg_resources\n",
      "/Users/s1ffre/miniconda3/envs/flair_work_pls/lib/python3.12/site-packages/ncls/__init__.py:2: UserWarning: pkg_resources is deprecated as an API. See https://setuptools.pypa.io/en/latest/pkg_resources.html. The pkg_resources package is slated for removal as early as 2025-11-30. Refrain from using this package or pin to Setuptools<81.\n",
      "  import pkg_resources\n",
      "/Users/s1ffre/miniconda3/envs/flair_work_pls/lib/python3.12/site-packages/ncls/__init__.py:2: UserWarning: pkg_resources is deprecated as an API. See https://setuptools.pypa.io/en/latest/pkg_resources.html. The pkg_resources package is slated for removal as early as 2025-11-30. Refrain from using this package or pin to Setuptools<81.\n",
      "  import pkg_resources\n",
      "Flair correct took 0 minutes and 19 seconds and finished without issues.\n",
      "\n",
      "FLAIR HAS FINISHED\n"
     ]
    }
   ],
   "source": [
    "!flair correct \\\n",
    "  -q {BED_FILE} \\\n",
    "  -g {REF_FASTA} \\\n",
    "  -f {GTF} \\\n",
    "  -o {FLAIR_DIR}/flair_corrected"
   ]
  },
  {
   "cell_type": "code",
   "execution_count": 9,
   "id": "365e4296-cc78-4f7f-9d60-56788b984264",
   "metadata": {},
   "outputs": [
    {
     "name": "stdout",
     "output_type": "stream",
     "text": [
      "../dataset/SRR33470049.fastq\n"
     ]
    }
   ],
   "source": [
    "print(FASTQ_FILE)"
   ]
  },
  {
   "cell_type": "code",
   "execution_count": 3,
   "id": "74e9d01e-620a-4468-b72d-4bfc20a13dfd",
   "metadata": {},
   "outputs": [
    {
     "name": "stdout",
     "output_type": "stream",
     "text": [
      "Writing temporary files to /var/folders/pc/0_6d1f7d5j765q5qfcgmpqj00000gn/T/tmpj2shx434/\t\n",
      "collapse_isoforms_precise.py -q ../results/flair/flair_corrected_all_corrected.bed -t 4 -m 2 -w 100 -n none -o ../results/flair/flair_collapsed.firstpass.unfiltered.bed -f ../references/Mus_musculus.GRCm39.109.gtf\n",
      "Renaming isoforms using gtf\n",
      "Aligning reads to first-pass isoform reference\n",
      "Aligning reads to firstpass transcripts\n",
      "Counting supporting reads for firstpass transcripts\n",
      "minimap2 -a -t 4 -N 4 --MD ../results/flair/flair_collapsed.firstpass.fa ../dataset/SRR33470049.fastq\n",
      "count_sam_transcripts.py --sam - -o ../results/flair/flair_collapsed.firstpass.q.counts -t 4 --quality 0 -w 100\n",
      "Filtering isoforms by read coverage\n",
      "Flair collapse took 1 minutes and 33 seconds and finished without issues.\n",
      "\n",
      "FLAIR HAS FINISHED\n"
     ]
    }
   ],
   "source": [
    "!flair collapse \\\n",
    "  -g {REF_FASTA} \\\n",
    "  -r {\"../dataset/SRR33470049.fastq\"} \\\n",
    "  -q {FLAIR_DIR}/flair_corrected_all_corrected.bed \\\n",
    "  -f {GTF} \\\n",
    "  -o {FLAIR_DIR}/flair_collapsed"
   ]
  },
  {
   "cell_type": "code",
   "execution_count": 7,
   "id": "45fe3a72-b4fb-443e-bf50-7aa81807f80e",
   "metadata": {},
   "outputs": [],
   "source": [
    "with open(\"../manifest.tsv\", \"w\") as f:\n",
    "    f.write(\"SRR33470049\\tflair_corrected_all_corrected.bed\\tSRR33470049.fastq\\taligned.bam\\n\")"
   ]
  },
  {
   "cell_type": "code",
   "execution_count": 17,
   "id": "f25dfa66-3d47-47a7-97da-cddba589bd06",
   "metadata": {},
   "outputs": [
    {
     "name": "stdout",
     "output_type": "stream",
     "text": [
      "'SRR33470049\\t./results/flair/flair_corrected_all_corrected.bed\\t./dataset/SRR33470049.fastq\\t./results/alignment/aligned.bam'\n",
      "manifest.tsv exists? True\n",
      "Line 1: 4 columns -> ['SRR33470049', './results/flair/flair_corrected_all_corrected.bed', './dataset/SRR33470049.fastq', './results/alignment/aligned.bam']\n"
     ]
    }
   ],
   "source": [
    "with open(\"manifest.tsv\") as f:\n",
    "    for line in f:\n",
    "        print(repr(line))\n",
    "\n",
    "import os\n",
    "print(\"manifest.tsv exists?\", os.path.isfile(\"manifest.tsv\"))\n",
    "\n",
    "with open(\"manifest.tsv\", \"r\") as f:\n",
    "    for i, line in enumerate(f):\n",
    "        parts = line.strip().split(\"\\t\")\n",
    "        print(f\"Line {i+1}: {len(parts)} columns -> {parts}\")"
   ]
  },
  {
   "cell_type": "code",
   "execution_count": 21,
   "id": "fbc097dc-df31-4667-a89f-e2f56d196652",
   "metadata": {},
   "outputs": [
    {
     "name": "stdout",
     "output_type": "stream",
     "text": [
      "Writing temporary files with prefixes similar to /var/folders/pc/0_6d1f7d5j765q5qfcgmpqj00000gn/T/tmp6imb_in0\n",
      "Step 1/3. Aligning sample SRR33470049_nobatch, 1/1 \n",
      "Step 2/3. Quantifying isoforms for sample SRR33470049_nobatch: 1/1 \n",
      "Step 3/3. Writing counts to ../results/flair/flair_quant.counts.tsv \n",
      "\n",
      "Flair quantify took 0 minutes and 51 seconds and finished without issues.\n",
      "\n",
      "FLAIR HAS FINISHED\n"
     ]
    }
   ],
   "source": [
    "!flair quantify \\\n",
    "  -r ./manifest.tsv \\\n",
    "  -i {FLAIR_DIR}/flair_collapsed.isoforms.fa \\\n",
    "  -t 4 \\\n",
    "  -o {FLAIR_DIR}/flair_quant"
   ]
  },
  {
   "cell_type": "code",
   "execution_count": 28,
   "id": "677672e5-6e91-4046-a377-39b974d5f8a6",
   "metadata": {},
   "outputs": [
    {
     "name": "stdout",
     "output_type": "stream",
     "text": [
      "Number of columns: 2\n",
      "                                       0                                1\n",
      "0                                    ids  SRR33470049_nocondition_nobatch\n",
      "1  ENSMUST00000000058_ENSMUSG00000000058                            201.0\n",
      "2  ENSMUST00000000080_ENSMUSG00000000078                             16.0\n",
      "3  ENSMUST00000000090_ENSMUSG00000000088                            144.0\n",
      "4  ENSMUST00000000175_ENSMUSG00000000171                             75.0\n"
     ]
    }
   ],
   "source": [
    "import pandas as pd\n",
    "\n",
    "counts = pd.read_csv(\"../results/flair/flair_quant.counts.tsv\", sep=\"\\t\", header=None)\n",
    "print(\"Number of columns:\", counts.shape[1])\n",
    "print(counts.head())"
   ]
  },
  {
   "cell_type": "code",
   "execution_count": 32,
   "id": "a4967a04-d896-41ec-986e-6a5f6b76c4bb",
   "metadata": {},
   "outputs": [
    {
     "data": {
      "text/html": [
       "<div>\n",
       "<style scoped>\n",
       "    .dataframe tbody tr th:only-of-type {\n",
       "        vertical-align: middle;\n",
       "    }\n",
       "\n",
       "    .dataframe tbody tr th {\n",
       "        vertical-align: top;\n",
       "    }\n",
       "\n",
       "    .dataframe thead th {\n",
       "        text-align: right;\n",
       "    }\n",
       "</style>\n",
       "<table border=\"1\" class=\"dataframe\">\n",
       "  <thead>\n",
       "    <tr style=\"text-align: right;\">\n",
       "      <th></th>\n",
       "      <th>transcript_gene</th>\n",
       "      <th>counts</th>\n",
       "      <th>transcript_id</th>\n",
       "      <th>gene_id</th>\n",
       "    </tr>\n",
       "  </thead>\n",
       "  <tbody>\n",
       "    <tr>\n",
       "      <th>0</th>\n",
       "      <td>ENSMUST00000000058_ENSMUSG00000000058</td>\n",
       "      <td>201</td>\n",
       "      <td>ENSMUST00000000058</td>\n",
       "      <td>ENSMUSG00000000058</td>\n",
       "    </tr>\n",
       "    <tr>\n",
       "      <th>1</th>\n",
       "      <td>ENSMUST00000000080_ENSMUSG00000000078</td>\n",
       "      <td>16</td>\n",
       "      <td>ENSMUST00000000080</td>\n",
       "      <td>ENSMUSG00000000078</td>\n",
       "    </tr>\n",
       "    <tr>\n",
       "      <th>2</th>\n",
       "      <td>ENSMUST00000000090_ENSMUSG00000000088</td>\n",
       "      <td>144</td>\n",
       "      <td>ENSMUST00000000090</td>\n",
       "      <td>ENSMUSG00000000088</td>\n",
       "    </tr>\n",
       "    <tr>\n",
       "      <th>3</th>\n",
       "      <td>ENSMUST00000000175_ENSMUSG00000000171</td>\n",
       "      <td>75</td>\n",
       "      <td>ENSMUST00000000175</td>\n",
       "      <td>ENSMUSG00000000171</td>\n",
       "    </tr>\n",
       "    <tr>\n",
       "      <th>4</th>\n",
       "      <td>ENSMUST00000000193_ENSMUSG00000035385</td>\n",
       "      <td>3</td>\n",
       "      <td>ENSMUST00000000193</td>\n",
       "      <td>ENSMUSG00000035385</td>\n",
       "    </tr>\n",
       "  </tbody>\n",
       "</table>\n",
       "</div>"
      ],
      "text/plain": [
       "                         transcript_gene  counts       transcript_id  \\\n",
       "0  ENSMUST00000000058_ENSMUSG00000000058     201  ENSMUST00000000058   \n",
       "1  ENSMUST00000000080_ENSMUSG00000000078      16  ENSMUST00000000080   \n",
       "2  ENSMUST00000000090_ENSMUSG00000000088     144  ENSMUST00000000090   \n",
       "3  ENSMUST00000000175_ENSMUSG00000000171      75  ENSMUST00000000175   \n",
       "4  ENSMUST00000000193_ENSMUSG00000035385       3  ENSMUST00000000193   \n",
       "\n",
       "              gene_id  \n",
       "0  ENSMUSG00000000058  \n",
       "1  ENSMUSG00000000078  \n",
       "2  ENSMUSG00000000088  \n",
       "3  ENSMUSG00000000171  \n",
       "4  ENSMUSG00000035385  "
      ]
     },
     "execution_count": 32,
     "metadata": {},
     "output_type": "execute_result"
    }
   ],
   "source": [
    "import pandas as pd\n",
    "\n",
    "counts = pd.read_csv(\"../results/flair/flair_quant.counts.tsv\", sep=\"\\t\", header=0)\n",
    "counts.columns = [\"transcript_gene\", \"counts\"]\n",
    "counts[['transcript_id', 'gene_id']] = counts['transcript_gene'].str.split('_', expand=True)\n",
    "counts['counts'] = counts['counts'].astype(int)\n",
    "counts.head()"
   ]
  },
  {
   "cell_type": "code",
   "execution_count": 65,
   "id": "471be7aa-27cd-41c5-a256-9dad1870cd50",
   "metadata": {},
   "outputs": [
    {
     "name": "stdout",
     "output_type": "stream",
     "text": [
      "isoform_type\n",
      "novel    11394\n",
      "known     4272\n",
      "Name: count, dtype: int64\n"
     ]
    }
   ],
   "source": [
    "known_isoforms = counts[counts['transcript_id'].str.startswith('ENS')]\n",
    "novel_isoforms = counts[~counts['transcript_id'].str.startswith('ENS')]\n",
    "\n",
    "counts['isoform_type'] = counts['transcript_id'].apply(\n",
    "    lambda x: 'known' if x.startswith('ENSMUST') else 'novel'\n",
    ")\n",
    "\n",
    "# Show the count of both the novel/known isoforms from the aboev step\n",
    "print(counts['isoform_type'].value_counts())"
   ]
  },
  {
   "cell_type": "code",
   "execution_count": 63,
   "id": "773df099-7676-40e8-b563-2248e96d066b",
   "metadata": {},
   "outputs": [
    {
     "name": "stdout",
     "output_type": "stream",
     "text": [
      "                count       mean         std  min  25%   50%   75%     max\n",
      "isoform_type                                                              \n",
      "known          4272.0  38.118914  128.747728  1.0  7.0  15.0  33.0  6255.0\n",
      "novel         11394.0  16.163683   77.989310  1.0  4.0   7.0  12.0  3586.0\n"
     ]
    },
    {
     "data": {
      "image/png": "[encoded data removed]",
      "text/plain": [
       "<Figure size 800x500 with 1 Axes>"
      ]
     },
     "metadata": {},
     "output_type": "display_data"
    }
   ],
   "source": [
    "import matplotlib.pyplot as plt\n",
    "import seaborn as sns\n",
    "\n",
    "# Summary stats\n",
    "print(counts.groupby('isoform_type')['counts'].describe())\n",
    "\n",
    "# Plot distributions\n",
    "plt.figure(figsize=(8,5))\n",
    "sns.boxplot(x='isoform_type', y='counts', data=counts)\n",
    "plt.yscale('log')  # Counts often vary a lot\n",
    "plt.title('Isoform expression by type')\n",
    "plt.savefig('isoform_expression_by_type')\n",
    "plt.show()"
   ]
  },
  {
   "cell_type": "code",
   "execution_count": 49,
   "id": "ac03ee67-d77e-4b88-a5bd-c46eabdc5c25",
   "metadata": {},
   "outputs": [
    {
     "name": "stdout",
     "output_type": "stream",
     "text": [
      "                            transcript_gene  counts       transcript_id  \\\n",
      "4370            SRR33470049.103477_MT:15000     173  SRR33470049.103477   \n",
      "4453         SRR33470049.107081_X:108205000     102  SRR33470049.107081   \n",
      "4500   SRR33470049.10902_ENSMUSG00000062353     122   SRR33470049.10902   \n",
      "4613          SRR33470049.113587_8:69357000     254  SRR33470049.113587   \n",
      "4635          SRR33470049.114391_3:86579000     199  SRR33470049.114391   \n",
      "...                                     ...     ...                 ...   \n",
      "15350         SRR33470049.88432_1:172100000     103   SRR33470049.88432   \n",
      "15380   SRR33470049.8953_ENSMUSG00000115783     706    SRR33470049.8953   \n",
      "15451   SRR33470049.9226_ENSMUSG00000041653     123    SRR33470049.9226   \n",
      "15491   SRR33470049.9375_ENSMUSG00000042312     117    SRR33470049.9375   \n",
      "15612          SRR33470049.98108_6:88802000     121   SRR33470049.98108   \n",
      "\n",
      "                  gene_id isoform_type  \n",
      "4370             MT:15000        novel  \n",
      "4453          X:108205000        novel  \n",
      "4500   ENSMUSG00000062353        novel  \n",
      "4613           8:69357000        novel  \n",
      "4635           3:86579000        novel  \n",
      "...                   ...          ...  \n",
      "15350         1:172100000        novel  \n",
      "15380  ENSMUSG00000115783        novel  \n",
      "15451  ENSMUSG00000041653        novel  \n",
      "15491  ENSMUSG00000042312        novel  \n",
      "15612          6:88802000        novel  \n",
      "\n",
      "[194 rows x 5 columns]\n"
     ]
    }
   ],
   "source": [
    "high_exp_novel = counts[(counts['isoform_type'] == 'novel') & (counts['counts'] > 100)]\n",
    "print(high_exp_novel)"
   ]
  },
  {
   "cell_type": "code",
   "execution_count": 51,
   "id": "ebce9999-0bbd-4d4b-a215-aca9514b6701",
   "metadata": {},
   "outputs": [
    {
     "name": "stdout",
     "output_type": "stream",
     "text": [
      "Number of genes with novel isoforms: 10482\n",
      "Example gene IDs: ['13:99123000' '5:124256000' 'ENSMUSG00000019929' '11:106139000'\n",
      " 'ENSMUSG00000028010' '10:12884000' '17:28294000' '19:54021000'\n",
      " '11:53247000' '11:105949000']\n"
     ]
    }
   ],
   "source": [
    "novel_isoforms = counts[counts['isoform_type'] == 'novel']\n",
    "novel_genes = novel_isoforms['gene_id'].unique()\n",
    "print(f\"Number of genes with novel isoforms: {len(novel_genes)}\")\n",
    "print(\"Example gene IDs:\", novel_genes[:10])"
   ]
  },
  {
   "cell_type": "code",
   "execution_count": 52,
   "id": "3fecc40f-6ee1-4683-8da2-6ac151e14243",
   "metadata": {},
   "outputs": [
    {
     "name": "stdout",
     "output_type": "stream",
     "text": [
      "                  gene_id  novel_isoform_count\n",
      "9463   ENSMUSG00000045983                    8\n",
      "7403   ENSMUSG00000002944                    7\n",
      "5704          6:119330000                    6\n",
      "9711   ENSMUSG00000061232                    6\n",
      "8084   ENSMUSG00000024393                    6\n",
      "10039  ENSMUSG00000090625                    5\n",
      "7564   ENSMUSG00000012705                    5\n",
      "9721   ENSMUSG00000061780                    5\n",
      "9882   ENSMUSG00000073418                    5\n",
      "8180   ENSMUSG00000025369                    5\n"
     ]
    }
   ],
   "source": [
    "novel_counts_per_gene = novel_isoforms.groupby('gene_id').size().reset_index(name='novel_isoform_count')\n",
    "novel_counts_per_gene = novel_counts_per_gene.sort_values('novel_isoform_count', ascending=False)\n",
    "print(novel_counts_per_gene.head(10))"
   ]
  },
  {
   "cell_type": "code",
   "execution_count": 37,
   "id": "e8b381f8-b0b4-491b-bc17-b4f419a7925d",
   "metadata": {},
   "outputs": [
    {
     "data": {
      "text/html": [
       "<div>\n",
       "<style scoped>\n",
       "    .dataframe tbody tr th:only-of-type {\n",
       "        vertical-align: middle;\n",
       "    }\n",
       "\n",
       "    .dataframe tbody tr th {\n",
       "        vertical-align: top;\n",
       "    }\n",
       "\n",
       "    .dataframe thead th {\n",
       "        text-align: right;\n",
       "    }\n",
       "</style>\n",
       "<table border=\"1\" class=\"dataframe\">\n",
       "  <thead>\n",
       "    <tr style=\"text-align: right;\">\n",
       "      <th></th>\n",
       "      <th>transcript_gene</th>\n",
       "      <th>counts</th>\n",
       "      <th>transcript_id</th>\n",
       "      <th>gene_id</th>\n",
       "    </tr>\n",
       "  </thead>\n",
       "  <tbody>\n",
       "    <tr>\n",
       "      <th>12849</th>\n",
       "      <td>SRR33470049.443843_ENSMUSG00000064357</td>\n",
       "      <td>3586</td>\n",
       "      <td>SRR33470049.443843</td>\n",
       "      <td>ENSMUSG00000064357</td>\n",
       "    </tr>\n",
       "    <tr>\n",
       "      <th>8846</th>\n",
       "      <td>SRR33470049.27951_MT:15000</td>\n",
       "      <td>2909</td>\n",
       "      <td>SRR33470049.27951</td>\n",
       "      <td>MT:15000</td>\n",
       "    </tr>\n",
       "    <tr>\n",
       "      <th>12321</th>\n",
       "      <td>SRR33470049.42182_ENSMUSG00000064341</td>\n",
       "      <td>2603</td>\n",
       "      <td>SRR33470049.42182</td>\n",
       "      <td>ENSMUSG00000064341</td>\n",
       "    </tr>\n",
       "    <tr>\n",
       "      <th>14460</th>\n",
       "      <td>SRR33470049.545_ENSMUSG00000062515</td>\n",
       "      <td>2247</td>\n",
       "      <td>SRR33470049.545</td>\n",
       "      <td>ENSMUSG00000062515</td>\n",
       "    </tr>\n",
       "    <tr>\n",
       "      <th>7378</th>\n",
       "      <td>SRR33470049.221763_8:69358000</td>\n",
       "      <td>2158</td>\n",
       "      <td>SRR33470049.221763</td>\n",
       "      <td>8:69358000</td>\n",
       "    </tr>\n",
       "    <tr>\n",
       "      <th>7224</th>\n",
       "      <td>SRR33470049.215908_ENSMUSG00000102070</td>\n",
       "      <td>1990</td>\n",
       "      <td>SRR33470049.215908</td>\n",
       "      <td>ENSMUSG00000102070</td>\n",
       "    </tr>\n",
       "    <tr>\n",
       "      <th>10556</th>\n",
       "      <td>SRR33470049.34876_MT:12000</td>\n",
       "      <td>1755</td>\n",
       "      <td>SRR33470049.34876</td>\n",
       "      <td>MT:12000</td>\n",
       "    </tr>\n",
       "    <tr>\n",
       "      <th>14667</th>\n",
       "      <td>SRR33470049.61644_MT:6000</td>\n",
       "      <td>1620</td>\n",
       "      <td>SRR33470049.61644</td>\n",
       "      <td>MT:6000</td>\n",
       "    </tr>\n",
       "    <tr>\n",
       "      <th>9857</th>\n",
       "      <td>SRR33470049.319875_MT:4000</td>\n",
       "      <td>1592</td>\n",
       "      <td>SRR33470049.319875</td>\n",
       "      <td>MT:4000</td>\n",
       "    </tr>\n",
       "    <tr>\n",
       "      <th>12691</th>\n",
       "      <td>SRR33470049.437036_ENSMUSG00000101249</td>\n",
       "      <td>1587</td>\n",
       "      <td>SRR33470049.437036</td>\n",
       "      <td>ENSMUSG00000101249</td>\n",
       "    </tr>\n",
       "  </tbody>\n",
       "</table>\n",
       "</div>"
      ],
      "text/plain": [
       "                             transcript_gene  counts       transcript_id  \\\n",
       "12849  SRR33470049.443843_ENSMUSG00000064357    3586  SRR33470049.443843   \n",
       "8846              SRR33470049.27951_MT:15000    2909   SRR33470049.27951   \n",
       "12321   SRR33470049.42182_ENSMUSG00000064341    2603   SRR33470049.42182   \n",
       "14460     SRR33470049.545_ENSMUSG00000062515    2247     SRR33470049.545   \n",
       "7378           SRR33470049.221763_8:69358000    2158  SRR33470049.221763   \n",
       "7224   SRR33470049.215908_ENSMUSG00000102070    1990  SRR33470049.215908   \n",
       "10556             SRR33470049.34876_MT:12000    1755   SRR33470049.34876   \n",
       "14667              SRR33470049.61644_MT:6000    1620   SRR33470049.61644   \n",
       "9857              SRR33470049.319875_MT:4000    1592  SRR33470049.319875   \n",
       "12691  SRR33470049.437036_ENSMUSG00000101249    1587  SRR33470049.437036   \n",
       "\n",
       "                  gene_id  \n",
       "12849  ENSMUSG00000064357  \n",
       "8846             MT:15000  \n",
       "12321  ENSMUSG00000064341  \n",
       "14460  ENSMUSG00000062515  \n",
       "7378           8:69358000  \n",
       "7224   ENSMUSG00000102070  \n",
       "10556            MT:12000  \n",
       "14667             MT:6000  \n",
       "9857              MT:4000  \n",
       "12691  ENSMUSG00000101249  "
      ]
     },
     "execution_count": 37,
     "metadata": {},
     "output_type": "execute_result"
    }
   ],
   "source": [
    "known_isoforms.sort_values('counts', ascending=False).head(10)\n",
    "novel_isoforms.sort_values('counts', ascending=False).head(10)"
   ]
  },
  {
   "cell_type": "code",
   "execution_count": 62,
   "id": "d266c6ac-688e-45e7-b06e-2e0c3d903d6a",
   "metadata": {},
   "outputs": [
    {
     "data": {
      "image/png": "[encoded data removed]",
      "text/plain": [
       "<Figure size 1200x600 with 1 Axes>"
      ]
     },
     "metadata": {},
     "output_type": "display_data"
    }
   ],
   "source": [
    "import matplotlib.pyplot as plt\n",
    "\n",
    "plt.figure(figsize=(12,6))\n",
    "plt.hist(known_isoforms['counts'], bins=50, alpha=0.7, label='Known')\n",
    "plt.hist(novel_isoforms['counts'], bins=50, alpha=0.7, label='Novel')\n",
    "plt.yscale('log')\n",
    "plt.xlabel('Read Counts')\n",
    "plt.ylabel('Frequency (log scale)')\n",
    "plt.legend()\n",
    "plt.title('Distribution of Isoform Counts')\n",
    "plt.savefig('distribution_of_isoform_counts')\n",
    "plt.show()"
   ]
  },
  {
   "cell_type": "code",
   "execution_count": 33,
   "id": "0bece243-76d1-46d2-be35-9919af779c6d",
   "metadata": {},
   "outputs": [
    {
     "name": "stdout",
     "output_type": "stream",
     "text": [
      "                               transcript_gene  counts         transcript_id  \\\n",
      "1076   ENSMUST00000029076-1_ENSMUSG00000027559    6255  ENSMUST00000029076-1   \n",
      "12849    SRR33470049.443843_ENSMUSG00000064357    3586    SRR33470049.443843   \n",
      "8846                SRR33470049.27951_MT:15000    2909     SRR33470049.27951   \n",
      "12321     SRR33470049.42182_ENSMUSG00000064341    2603     SRR33470049.42182   \n",
      "14460       SRR33470049.545_ENSMUSG00000062515    2247       SRR33470049.545   \n",
      "7378             SRR33470049.221763_8:69358000    2158    SRR33470049.221763   \n",
      "3804     ENSMUST00000173739_ENSMUSG00000002985    2048    ENSMUST00000173739   \n",
      "7224     SRR33470049.215908_ENSMUSG00000102070    1990    SRR33470049.215908   \n",
      "10556               SRR33470049.34876_MT:12000    1755     SRR33470049.34876   \n",
      "980      ENSMUST00000027634_ENSMUSG00000026385    1683    ENSMUST00000027634   \n",
      "\n",
      "                  gene_id  \n",
      "1076   ENSMUSG00000027559  \n",
      "12849  ENSMUSG00000064357  \n",
      "8846             MT:15000  \n",
      "12321  ENSMUSG00000064341  \n",
      "14460  ENSMUSG00000062515  \n",
      "7378           8:69358000  \n",
      "3804   ENSMUSG00000002985  \n",
      "7224   ENSMUSG00000102070  \n",
      "10556            MT:12000  \n",
      "980    ENSMUSG00000026385  \n"
     ]
    }
   ],
   "source": [
    "top = counts.sort_values(by=\"counts\", ascending=False).head(10)\n",
    "print(top)"
   ]
  },
  {
   "cell_type": "code",
   "execution_count": 34,
   "id": "3aa0c3b4-5a0a-4b3c-a183-16183798d543",
   "metadata": {},
   "outputs": [
    {
     "data": {
      "image/png": "[encoded data removed]",
      "text/plain": [
       "<Figure size 640x480 with 1 Axes>"
      ]
     },
     "metadata": {},
     "output_type": "display_data"
    }
   ],
   "source": [
    "import matplotlib.pyplot as plt\n",
    "\n",
    "counts['counts'].hist(bins=50)\n",
    "plt.title(\"Distribution of Isoform Read Counts\")\n",
    "plt.xlabel(\"Read Count\")\n",
    "plt.ylabel(\"Frequency\")\n",
    "plt.show()"
   ]
  },
  {
   "cell_type": "code",
   "execution_count": 53,
   "id": "4fd0e150-3011-43ab-9bb4-aba20eb195ad",
   "metadata": {},
   "outputs": [],
   "source": [
    "import pandas as pd\n",
    "import gzip\n",
    "\n",
    "# Parse GTF to extract gene_id ↔ gene_name mapping\n",
    "def parse_gtf_attributes(attribute_string):\n",
    "    attributes = {}\n",
    "    for item in attribute_string.strip().split(';'):\n",
    "        if item:\n",
    "            key, value = item.strip().split(' ')\n",
    "            attributes[key] = value.strip('\"')\n",
    "    return attributes\n",
    "\n",
    "# gtf_file = \"../references/Mus_musculus.GRCm39.109.gtf\"\n",
    "\n",
    "gene_map = {}\n",
    "\n",
    "with open(GTF, 'r') as fh:\n",
    "    for line in fh:\n",
    "        if line.startswith(\"#\"):\n",
    "            continue\n",
    "        fields = line.strip().split('\\t')\n",
    "        if fields[2] == 'gene':\n",
    "            attr = parse_gtf_attributes(fields[8])\n",
    "            gene_id = attr.get('gene_id')\n",
    "            gene_name = attr.get('gene_name')\n",
    "            if gene_id and gene_name:\n",
    "                gene_map[gene_id] = gene_name\n",
    "\n",
    "# Convert to DataFrame\n",
    "gene_map_df = pd.DataFrame(gene_map.items(), columns=[\"gene_id\", \"gene_name\"])"
   ]
  },
  {
   "cell_type": "code",
   "execution_count": 54,
   "id": "78f3effd-ecff-466d-b021-bb4ea5899a55",
   "metadata": {},
   "outputs": [
    {
     "data": {
      "text/html": [
       "<div>\n",
       "<style scoped>\n",
       "    .dataframe tbody tr th:only-of-type {\n",
       "        vertical-align: middle;\n",
       "    }\n",
       "\n",
       "    .dataframe tbody tr th {\n",
       "        vertical-align: top;\n",
       "    }\n",
       "\n",
       "    .dataframe thead th {\n",
       "        text-align: right;\n",
       "    }\n",
       "</style>\n",
       "<table border=\"1\" class=\"dataframe\">\n",
       "  <thead>\n",
       "    <tr style=\"text-align: right;\">\n",
       "      <th></th>\n",
       "      <th>gene_id</th>\n",
       "      <th>novel_isoform_count</th>\n",
       "      <th>gene_name</th>\n",
       "    </tr>\n",
       "  </thead>\n",
       "  <tbody>\n",
       "    <tr>\n",
       "      <th>0</th>\n",
       "      <td>ENSMUSG00000045983</td>\n",
       "      <td>8</td>\n",
       "      <td>Eif4g1</td>\n",
       "    </tr>\n",
       "    <tr>\n",
       "      <th>1</th>\n",
       "      <td>ENSMUSG00000002944</td>\n",
       "      <td>7</td>\n",
       "      <td>Cd36</td>\n",
       "    </tr>\n",
       "    <tr>\n",
       "      <th>2</th>\n",
       "      <td>6:119330000</td>\n",
       "      <td>6</td>\n",
       "      <td>NA</td>\n",
       "    </tr>\n",
       "    <tr>\n",
       "      <th>3</th>\n",
       "      <td>ENSMUSG00000061232</td>\n",
       "      <td>6</td>\n",
       "      <td>H2-K1</td>\n",
       "    </tr>\n",
       "    <tr>\n",
       "      <th>4</th>\n",
       "      <td>ENSMUSG00000024393</td>\n",
       "      <td>6</td>\n",
       "      <td>Prrc2a</td>\n",
       "    </tr>\n",
       "    <tr>\n",
       "      <th>11</th>\n",
       "      <td>ENSMUSG00000036570</td>\n",
       "      <td>5</td>\n",
       "      <td>Fxyd1</td>\n",
       "    </tr>\n",
       "    <tr>\n",
       "      <th>14</th>\n",
       "      <td>5:18470000</td>\n",
       "      <td>5</td>\n",
       "      <td>NA</td>\n",
       "    </tr>\n",
       "    <tr>\n",
       "      <th>13</th>\n",
       "      <td>ENSMUSG00000032637</td>\n",
       "      <td>5</td>\n",
       "      <td>Atxn2l</td>\n",
       "    </tr>\n",
       "    <tr>\n",
       "      <th>12</th>\n",
       "      <td>9:123135000</td>\n",
       "      <td>5</td>\n",
       "      <td>NA</td>\n",
       "    </tr>\n",
       "    <tr>\n",
       "      <th>10</th>\n",
       "      <td>ENSMUSG00000024991</td>\n",
       "      <td>5</td>\n",
       "      <td>Eif3a</td>\n",
       "    </tr>\n",
       "  </tbody>\n",
       "</table>\n",
       "</div>"
      ],
      "text/plain": [
       "               gene_id  novel_isoform_count gene_name\n",
       "0   ENSMUSG00000045983                    8    Eif4g1\n",
       "1   ENSMUSG00000002944                    7      Cd36\n",
       "2          6:119330000                    6        NA\n",
       "3   ENSMUSG00000061232                    6     H2-K1\n",
       "4   ENSMUSG00000024393                    6    Prrc2a\n",
       "11  ENSMUSG00000036570                    5     Fxyd1\n",
       "14          5:18470000                    5        NA\n",
       "13  ENSMUSG00000032637                    5    Atxn2l\n",
       "12         9:123135000                    5        NA\n",
       "10  ENSMUSG00000024991                    5     Eif3a"
      ]
     },
     "execution_count": 54,
     "metadata": {},
     "output_type": "execute_result"
    }
   ],
   "source": [
    "# Merge with your previous DataFrame\n",
    "merged = novel_counts_per_gene.merge(gene_map_df, on=\"gene_id\", how=\"left\")\n",
    "\n",
    "# Fill in missing gene names\n",
    "merged['gene_name'] = merged['gene_name'].fillna(\"NA\")\n",
    "\n",
    "# Sort and display\n",
    "merged = merged.sort_values('novel_isoform_count', ascending=False)\n",
    "merged.head(10)\n"
   ]
  },
  {
   "cell_type": "code",
   "execution_count": 55,
   "id": "250cfcd9-b266-4e6d-aae8-2965158fb5f3",
   "metadata": {},
   "outputs": [],
   "source": [
    "# Save as CSV\n",
    "merged.to_csv(\"novel_isoform_summary.csv\", index=False)\n",
    "\n",
    "# Also export top 20 in markdown for GitHub README if you want\n",
    "top_20_md = merged.head(20).to_markdown(index=False)\n",
    "with open(\"top20_novel_genes.md\", \"w\") as f:\n",
    "    f.write(top_20_md)"
   ]
  },
  {
   "cell_type": "code",
   "execution_count": 61,
   "id": "8bc7476c-97e2-46a4-a599-cd7660893011",
   "metadata": {},
   "outputs": [
    {
     "name": "stderr",
     "output_type": "stream",
     "text": [
      "/var/folders/pc/0_6d1f7d5j765q5qfcgmpqj00000gn/T/ipykernel_60562/1977985687.py:12: FutureWarning: \n",
      "\n",
      "Passing `palette` without assigning `hue` is deprecated and will be removed in v0.14.0. Assign the `y` variable to `hue` and set `legend=False` for the same effect.\n",
      "\n",
      "  sns.barplot(data=top_n, x='counts', y='gene_name', palette=\"mako\")\n"
     ]
    },
    {
     "data": {
      "image/png": "[encoded data removed]",
      "text/plain": [
       "<Figure size 1000x600 with 1 Axes>"
      ]
     },
     "metadata": {},
     "output_type": "display_data"
    }
   ],
   "source": [
    "import seaborn as sns\n",
    "import matplotlib.pyplot as plt\n",
    "\n",
    "# Merge original novel isoforms table with gene names\n",
    "novel_isoforms_named = novel_isoforms.merge(gene_map_df, on=\"gene_id\", how=\"left\")\n",
    "novel_isoforms_named['gene_name'] = novel_isoforms_named['gene_name'].fillna(\"NA\")\n",
    "\n",
    "# Plot top 10 expressed novel isoforms\n",
    "top_n = novel_isoforms_named.sort_values(\"counts\", ascending=False).head(10)\n",
    "\n",
    "plt.figure(figsize=(10,6))\n",
    "sns.barplot(data=top_n, x='counts', y='gene_name', palette=\"mako\")\n",
    "plt.title(\"Top 10 Novel Isoform Counts by Gene\")\n",
    "plt.xlabel(\"Counts\")\n",
    "plt.ylabel(\"Gene\")\n",
    "plt.tight_layout()\n",
    "plt.savefig('top_10_novel_isoform_counts_by_gene.png')\n",
    "plt.show()"
   ]
  },
  {
   "cell_type": "code",
   "execution_count": 58,
   "id": "2094a476-2f20-43fc-a9e0-69208bc76ee3",
   "metadata": {},
   "outputs": [
    {
     "name": "stdout",
     "output_type": "stream",
     "text": [
      "            transcript_id             gene_id  counts\n",
      "12849  SRR33470049.443843  ENSMUSG00000064357    3586\n",
      "8846    SRR33470049.27951            MT:15000    2909\n",
      "12321   SRR33470049.42182  ENSMUSG00000064341    2603\n",
      "14460     SRR33470049.545  ENSMUSG00000062515    2247\n",
      "7378   SRR33470049.221763          8:69358000    2158\n",
      "7224   SRR33470049.215908  ENSMUSG00000102070    1990\n",
      "10556   SRR33470049.34876            MT:12000    1755\n",
      "14667   SRR33470049.61644             MT:6000    1620\n",
      "9857   SRR33470049.319875             MT:4000    1592\n",
      "12691  SRR33470049.437036  ENSMUSG00000101249    1587\n"
     ]
    }
   ],
   "source": [
    "top_expressed_novels = novel_isoforms.sort_values(\"counts\", ascending=False).head(10)\n",
    "print(top_expressed_novels[['transcript_id', 'gene_id', 'counts']])"
   ]
  },
  {
   "cell_type": "code",
   "execution_count": 59,
   "id": "924e6af5-c230-40ac-8c9b-1d7bb72f8866",
   "metadata": {},
   "outputs": [
    {
     "name": "stdout",
     "output_type": "stream",
     "text": [
      "Novel isoforms from mitochondrial genes: 30\n"
     ]
    }
   ],
   "source": [
    "# Check if gene_id contains 'MT'\n",
    "mito_novels = novel_isoforms[novel_isoforms['gene_id'].str.contains('MT', na=False)]\n",
    "print(f\"Novel isoforms from mitochondrial genes: {mito_novels.shape[0]}\")"
   ]
  },
  {
   "cell_type": "code",
   "execution_count": null,
   "id": "5d4564ac-07a9-4551-a43b-9fc35e752d3d",
   "metadata": {},
   "outputs": [],
   "source": []
  }
 ],
 "metadata": {
  "kernelspec": {
   "display_name": "Python 3 (ipykernel)",
   "language": "python",
   "name": "python3"
  },
  "language_info": {
   "codemirror_mode": {
    "name": "ipython",
    "version": 3
   },
   "file_extension": ".py",
   "mimetype": "text/x-python",
   "name": "python",
   "nbconvert_exporter": "python",
   "pygments_lexer": "ipython3",
   "version": "3.12.11"
  }
 },
 "nbformat": 4,
 "nbformat_minor": 5
}
